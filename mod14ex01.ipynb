{
 "cells": [
  {
   "cell_type": "code",
   "execution_count": 5,
   "id": "77d5811a",
   "metadata": {},
   "outputs": [],
   "source": [
    "import numpy as np\n",
    "import pandas as pd\n",
    "import seaborn as sns\n",
    "import matplotlib.pyplot as plt"
   ]
  },
  {
   "cell_type": "code",
   "execution_count": null,
   "id": "7b1bd98b",
   "metadata": {},
   "outputs": [],
   "source": [
    "sinasc = pd.read_csv(\".\\input\\SINASC_RO_2019_MAR.csv\")\n",
    "\n",
    "pd.pivot_table(sinasc, values='IDADEMAE', index='DTNASC', aggfunc='mean').plot(figsize=[15, 5])\n",
    "plt.ylabel('média idade mãe');\n",
    "\n",
    "pd.pivot_table(sinasc, values='IDADEMAE', index='DTNASC', aggfunc='count').plot(figsize=[18, 6])\n",
    "plt.ylabel('quantidade de nascimentos');\n",
    "\n",
    "pd.pivot_table(sinasc, values='IDADEMAE', index=['DTNASC', 'SEXO'], aggfunc='count').unstack().plot(figsize=[18, 6]);\n",
    "\n",
    "pd.pivot_table(sinasc, values='PESO', index=['DTNASC', 'SEXO'], aggfunc='count').unstack().plot(figsize=[18, 6]);\n",
    "\n",
    "pd.pivot_table(sinasc, values='PESO', index=['ESCMAE'], aggfunc='median').sort_values('PESO').plot(figsize=[18, 6]);\n",
    "\n",
    "pd.pivot_table(sinasc, values='APGAR1', index=['GESTACAO'], aggfunc='mean').sort_values('APGAR1').plot(figsize=[18, 6])\n",
    "plt.ylabel('apgar1 medio')\n",
    "plt.xlabel('gestacao');\n",
    "\n",
    "pd.pivot_table(sinasc, values='APGAR5', index=['GESTACAO'], aggfunc='mean').sort_values('APGAR5').plot(figsize=[18, 6])\n",
    "plt.ylabel('apgar5 medio')\n",
    "plt.xlabel('gestacao');"
   ]
  },
  {
   "cell_type": "code",
   "execution_count": null,
   "id": "5b4288cf",
   "metadata": {},
   "outputs": [],
   "source": [
    "sinasc = pd.read_csv(\".\\input\\SINASC_RO_2019_ABR.csv\")\n",
    "\n",
    "pd.pivot_table(sinasc, values='IDADEMAE', index='DTNASC', aggfunc='mean').plot(figsize=[15, 5])\n",
    "plt.ylabel('média idade mãe');\n",
    "\n",
    "pd.pivot_table(sinasc, values='IDADEMAE', index='DTNASC', aggfunc='count').plot(figsize=[18, 6])\n",
    "plt.ylabel('quantidade de nascimentos');\n",
    "\n",
    "pd.pivot_table(sinasc, values='IDADEMAE', index=['DTNASC', 'SEXO'], aggfunc='count').unstack().plot(figsize=[18, 6]);\n",
    "\n",
    "pd.pivot_table(sinasc, values='PESO', index=['DTNASC', 'SEXO'], aggfunc='count').unstack().plot(figsize=[18, 6]);\n",
    "\n",
    "pd.pivot_table(sinasc, values='PESO', index=['ESCMAE'], aggfunc='median').sort_values('PESO').plot(figsize=[18, 6]);\n",
    "\n",
    "pd.pivot_table(sinasc, values='APGAR1', index=['GESTACAO'], aggfunc='mean').sort_values('APGAR1').plot(figsize=[18, 6])\n",
    "plt.ylabel('apgar1 medio')\n",
    "plt.xlabel('gestacao');\n",
    "\n",
    "pd.pivot_table(sinasc, values='APGAR5', index=['GESTACAO'], aggfunc='mean').sort_values('APGAR5').plot(figsize=[18, 6])\n",
    "plt.ylabel('apgar5 medio')\n",
    "plt.xlabel('gestacao');"
   ]
  },
  {
   "cell_type": "code",
   "execution_count": null,
   "id": "de5c053c",
   "metadata": {},
   "outputs": [],
   "source": [
    "sinasc = pd.read_csv(\".\\input\\SINASC_RO_2019_MAI.csv\")\n",
    "\n",
    "pd.pivot_table(sinasc, values='IDADEMAE', index='DTNASC', aggfunc='mean').plot(figsize=[15, 5])\n",
    "plt.ylabel('média idade mãe');\n",
    "\n",
    "pd.pivot_table(sinasc, values='IDADEMAE', index='DTNASC', aggfunc='count').plot(figsize=[18, 6])\n",
    "plt.ylabel('quantidade de nascimentos');\n",
    "\n",
    "pd.pivot_table(sinasc, values='IDADEMAE', index=['DTNASC', 'SEXO'], aggfunc='count').unstack().plot(figsize=[18, 6]);\n",
    "\n",
    "pd.pivot_table(sinasc, values='PESO', index=['DTNASC', 'SEXO'], aggfunc='count').unstack().plot(figsize=[18, 6]);\n",
    "\n",
    "pd.pivot_table(sinasc, values='PESO', index=['ESCMAE'], aggfunc='median').sort_values('PESO').plot(figsize=[18, 6]);\n",
    "\n",
    "pd.pivot_table(sinasc, values='APGAR1', index=['GESTACAO'], aggfunc='mean').sort_values('APGAR1').plot(figsize=[18, 6])\n",
    "plt.ylabel('apgar1 medio')\n",
    "plt.xlabel('gestacao');\n",
    "\n",
    "pd.pivot_table(sinasc, values='APGAR5', index=['GESTACAO'], aggfunc='mean').sort_values('APGAR5').plot(figsize=[18, 6])\n",
    "plt.ylabel('apgar5 medio')\n",
    "plt.xlabel('gestacao');"
   ]
  },
  {
   "cell_type": "code",
   "execution_count": null,
   "id": "3a1248d6",
   "metadata": {},
   "outputs": [],
   "source": [
    "sinasc = pd.read_csv(\".\\input\\SINASC_RO_2019_JUN.csv\")\n",
    "\n",
    "pd.pivot_table(sinasc, values='IDADEMAE', index='DTNASC', aggfunc='mean').plot(figsize=[15, 5])\n",
    "plt.ylabel('média idade mãe');\n",
    "\n",
    "pd.pivot_table(sinasc, values='IDADEMAE', index='DTNASC', aggfunc='count').plot(figsize=[18, 6])\n",
    "plt.ylabel('quantidade de nascimentos');\n",
    "\n",
    "pd.pivot_table(sinasc, values='IDADEMAE', index=['DTNASC', 'SEXO'], aggfunc='count').unstack().plot(figsize=[18, 6]);\n",
    "\n",
    "pd.pivot_table(sinasc, values='PESO', index=['DTNASC', 'SEXO'], aggfunc='count').unstack().plot(figsize=[18, 6]);\n",
    "\n",
    "pd.pivot_table(sinasc, values='PESO', index=['ESCMAE'], aggfunc='median').sort_values('PESO').plot(figsize=[18, 6]);\n",
    "\n",
    "pd.pivot_table(sinasc, values='APGAR1', index=['GESTACAO'], aggfunc='mean').sort_values('APGAR1').plot(figsize=[18, 6])\n",
    "plt.ylabel('apgar1 medio')\n",
    "plt.xlabel('gestacao');\n",
    "\n",
    "pd.pivot_table(sinasc, values='APGAR5', index=['GESTACAO'], aggfunc='mean').sort_values('APGAR5').plot(figsize=[18, 6])\n",
    "plt.ylabel('apgar5 medio')\n",
    "plt.xlabel('gestacao');"
   ]
  },
  {
   "cell_type": "code",
   "execution_count": null,
   "id": "e10bea0f",
   "metadata": {},
   "outputs": [],
   "source": [
    "sinasc = pd.read_csv(\".\\input\\SINASC_RO_2019_DEZ.csv\")\n",
    "\n",
    "pd.pivot_table(sinasc, values='IDADEMAE', index='DTNASC', aggfunc='mean').plot(figsize=[15, 5])\n",
    "plt.ylabel('média idade mãe');\n",
    "\n",
    "pd.pivot_table(sinasc, values='IDADEMAE', index='DTNASC', aggfunc='count').plot(figsize=[18, 6])\n",
    "plt.ylabel('quantidade de nascimentos');\n",
    "\n",
    "pd.pivot_table(sinasc, values='IDADEMAE', index=['DTNASC', 'SEXO'], aggfunc='count').unstack().plot(figsize=[18, 6]);\n",
    "\n",
    "pd.pivot_table(sinasc, values='PESO', index=['DTNASC', 'SEXO'], aggfunc='count').unstack().plot(figsize=[18, 6]);\n",
    "\n",
    "pd.pivot_table(sinasc, values='PESO', index=['ESCMAE'], aggfunc='median').sort_values('PESO').plot(figsize=[18, 6]);\n",
    "\n",
    "pd.pivot_table(sinasc, values='APGAR1', index=['GESTACAO'], aggfunc='mean').sort_values('APGAR1').plot(figsize=[18, 6])\n",
    "plt.ylabel('apgar1 medio')\n",
    "plt.xlabel('gestacao');\n",
    "\n",
    "pd.pivot_table(sinasc, values='APGAR5', index=['GESTACAO'], aggfunc='mean').sort_values('APGAR5').plot(figsize=[18, 6])\n",
    "plt.ylabel('apgar5 medio')\n",
    "plt.xlabel('gestacao');"
   ]
  },
  {
   "cell_type": "markdown",
   "id": "73a20d8e",
   "metadata": {},
   "source": [
    "- Criar um metodo para imprimir e/ou salvar os graficos desejados.\n",
    "- Criar um metodo para ler os csv's da pasta e rodar o metodo sugerido anteriormente."
   ]
  }
 ],
 "metadata": {
  "kernelspec": {
   "display_name": "Python 3 (ipykernel)",
   "language": "python",
   "name": "python3"
  },
  "language_info": {
   "codemirror_mode": {
    "name": "ipython",
    "version": 3
   },
   "file_extension": ".py",
   "mimetype": "text/x-python",
   "name": "python",
   "nbconvert_exporter": "python",
   "pygments_lexer": "ipython3",
   "version": "3.9.13"
  }
 },
 "nbformat": 4,
 "nbformat_minor": 5
}
